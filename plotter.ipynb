{
 "cells": [
  {
   "cell_type": "code",
   "execution_count": 226,
   "metadata": {
    "collapsed": true
   },
   "outputs": [],
   "source": [
    "# imports\n",
    "import pandas as pd\n",
    "import numpy as np\n",
    "import glob, os\n",
    "import matplotlib.pyplot as plt"
   ]
  },
  {
   "cell_type": "code",
   "execution_count": 233,
   "metadata": {},
   "outputs": [
    {
     "name": "stdout",
     "output_type": "stream",
     "text": [
      "['chymotrypsin/chymotrypsin.xlsx']\n"
     ]
    }
   ],
   "source": [
    "# fetch excel file names\n",
    "path = \"chymotrypsin\"\n",
    "excel_files = []\n",
    "for file in os.listdir(path):\n",
    "    if file.endswith(\".xlsx\"):\n",
    "        excel_files.append(os.path.join(path, file))\n",
    "print(excel_files)"
   ]
  },
  {
   "cell_type": "code",
   "execution_count": 234,
   "metadata": {},
   "outputs": [
    {
     "name": "stdout",
     "output_type": "stream",
     "text": [
      "['1', '10', '11', '2', '3', '4', '5', '7', '9', '6', '8']\n"
     ]
    }
   ],
   "source": [
    "# read in excel files into dataframes\n",
    "dfs = []\n",
    "for excel_file in excel_files:\n",
    "    xls = pd.ExcelFile(excel_file)\n",
    "    print(xls.sheet_names)\n",
    "    for sn in xls.sheet_names:\n",
    "        dfs.append(pd.read_excel(xls, sn, header=0).reset_index().drop('index', axis=1))"
   ]
  },
  {
   "cell_type": "code",
   "execution_count": 235,
   "metadata": {},
   "outputs": [],
   "source": [
    "# get plot_labels\n",
    "plot_labels = []\n",
    "for df in dfs:\n",
    "    plot_labels.append(df['Title'][0])"
   ]
  },
  {
   "cell_type": "code",
   "execution_count": 236,
   "metadata": {},
   "outputs": [],
   "source": [
    "# truncate data @ start & end (interest region at 280 and 310)\n",
    "start_index = []\n",
    "end_index = []\n",
    "\n",
    "for df in dfs:\n",
    "    for i in range(len(df)):\n",
    "        if (df.iloc[i]['Wavelength (nm)'] > 280):\n",
    "            start_index.append(i)\n",
    "            break\n",
    "    for i in range(len(df)):\n",
    "        if (df.iloc[i]['Wavelength (nm)'] > 450): # extra room left so legend has space\n",
    "            end_index.append(i)\n",
    "            break\n",
    "\n",
    "for i in range(len(dfs)):\n",
    "    dfs[i] = dfs[i][start_index[i]:end_index[i]].reset_index().drop('index', axis=1)\n"
   ]
  },
  {
   "cell_type": "code",
   "execution_count": 237,
   "metadata": {},
   "outputs": [],
   "source": [
    "# subtract pure substrate from the rest\n",
    "dfs_sub = []\n",
    "for j in range(1,len(dfs)):\n",
    "    sub_abs = []\n",
    "    for i in range(len(dfs[j])):\n",
    "        sub_abs.append(dfs[j]['Absorbance'][i] - dfs[1]['Absorbance'][i])\n",
    "    dfs_sub.append(pd.concat([dfs[j], pd.DataFrame({'Subtracted Absorbance': sub_abs})], axis=1, sort=False))\n",
    "    "
   ]
  },
  {
   "cell_type": "code",
   "execution_count": 238,
   "metadata": {},
   "outputs": [],
   "source": [
    "# plot all data on 1 overlay plot and save as png \n",
    "plt.figure()\n",
    "plt.xlabel(\"Wavelength (nm)\")\n",
    "plt.ylabel(\"Absorbance\")\n",
    "#plt.grid(b=None)\n",
    "for i in range(1,len(dfs)):\n",
    "    plt.plot(dfs[i]['Wavelength (nm)'], dfs[i]['Absorbance'], '-', lw=0.5, label=plot_labels[i])\n",
    "plt.legend()\n",
    "plt.savefig(path + '/overlay', dpi=300, bbox_inches='tight')\n",
    "plt.close('all')\n",
    "\n"
   ]
  },
  {
   "cell_type": "code",
   "execution_count": 239,
   "metadata": {
    "collapsed": true
   },
   "outputs": [],
   "source": [
    "# plot all SUBTRACTED data on 1 overlay plot and save as png \n",
    "plt.figure()\n",
    "plt.xlabel(\"Wavelength (nm)\")\n",
    "plt.ylabel(\"Absorbance\")\n",
    "#plt.grid(b=None)\n",
    "for i in range(len(dfs_sub)):\n",
    "    plt.plot(dfs_sub[i]['Wavelength (nm)'], dfs_sub[i]['Subtracted Absorbance'], '-', lw=0.5, label=plot_labels[i+1])\n",
    "plt.legend()\n",
    "plt.savefig(path + '/subtracted', dpi=300, bbox_inches='tight')\n",
    "plt.close('all')"
   ]
  },
  {
   "cell_type": "code",
   "execution_count": 243,
   "metadata": {
    "collapsed": true
   },
   "outputs": [],
   "source": [
    "# chymotrypsin manual plot\n",
    "plt.figure()\n",
    "plt.xlabel(\"Wavelength (nm)\")\n",
    "plt.ylabel(\"Substrate Subtracted Absorbance\")\n",
    "\n",
    "plt.plot(dfs_sub[2]['Wavelength (nm)'], dfs_sub[2]['Subtracted Absorbance'], '-k', lw=1, label=plot_labels[3])\n",
    "plt.plot(dfs_sub[3]['Wavelength (nm)'], dfs_sub[3]['Subtracted Absorbance'], '-b', lw=1, label=plot_labels[4])\n",
    "plt.plot(dfs_sub[4]['Wavelength (nm)'], dfs_sub[4]['Subtracted Absorbance'], '-g', lw=1, label=plot_labels[5])\n",
    "plt.plot(dfs_sub[5]['Wavelength (nm)'], dfs_sub[5]['Subtracted Absorbance'], '-c', lw=1, label=plot_labels[6])\n",
    "plt.plot(dfs_sub[6]['Wavelength (nm)'], dfs_sub[6]['Subtracted Absorbance'], '--k', lw=1, label=plot_labels[7])\n",
    "plt.plot(dfs_sub[7]['Wavelength (nm)'], dfs_sub[7]['Subtracted Absorbance'], '--b', lw=1, label=plot_labels[8])\n",
    "plt.plot(dfs_sub[8]['Wavelength (nm)'], dfs_sub[8]['Subtracted Absorbance'], '--g', lw=1, label=plot_labels[9])\n",
    "plt.plot(dfs_sub[9]['Wavelength (nm)'], dfs_sub[9]['Subtracted Absorbance'], '--c', lw=1, label=plot_labels[10])\n",
    "\n",
    "\n",
    "plt.legend()\n",
    "plt.savefig(path + '/manual', dpi=300, bbox_inches='tight')\n",
    "plt.close('all')"
   ]
  },
  {
   "cell_type": "code",
   "execution_count": 198,
   "metadata": {
    "collapsed": true
   },
   "outputs": [],
   "source": [
    "# 50-35-15-0_RHP_OPH MANUAL PLOT\n",
    "plt.figure()\n",
    "plt.xlabel(\"Wavelength (nm)\")\n",
    "plt.ylabel(\"Substrate Subtracted Absorbance\")\n",
    "\n",
    "plt.plot(dfs_sub[2]['Wavelength (nm)'], dfs_sub[2]['Subtracted Absorbance'], '-k', lw=1, label=\"1hr\")\n",
    "plt.plot(dfs_sub[3]['Wavelength (nm)'], dfs_sub[3]['Subtracted Absorbance'], '-c', lw=1, label=\"water_1hr\")\n",
    "plt.plot(dfs_sub[6]['Wavelength (nm)'], dfs_sub[6]['Subtracted Absorbance'], '-.k', lw=1, label=\"24hr\")\n",
    "plt.plot(dfs_sub[7]['Wavelength (nm)'], dfs_sub[7]['Subtracted Absorbance'], '-.c', lw=1, label=\"water_24hr\")\n",
    "\n",
    "\n",
    "plt.legend()\n",
    "plt.savefig(path + '/manual', dpi=300, bbox_inches='tight')\n",
    "plt.close('all')"
   ]
  },
  {
   "cell_type": "code",
   "execution_count": 155,
   "metadata": {
    "collapsed": true
   },
   "outputs": [],
   "source": [
    "# 50-35-15-0_RHP_Lip MANUAL PLOT\n",
    "plt.figure()\n",
    "plt.xlabel(\"Wavelength (nm)\")\n",
    "plt.ylabel(\"Substrate Subtracted Absorbance\")\n",
    "\n",
    "plt.plot(dfs_sub[2]['Wavelength (nm)'], dfs_sub[2]['Subtracted Absorbance'], '-k', lw=1, label=\"1hr\")\n",
    "plt.plot(dfs_sub[3]['Wavelength (nm)'], dfs_sub[3]['Subtracted Absorbance'], '-c', lw=1, label=\"water_1hr\")\n",
    "plt.plot(dfs_sub[4]['Wavelength (nm)'], dfs_sub[4]['Subtracted Absorbance'], '--c', lw=1, label=\"water_6hr\")\n",
    "plt.plot(dfs_sub[5]['Wavelength (nm)'], dfs_sub[5]['Subtracted Absorbance'], '--k', lw=1, label=\"6hr\")\n",
    "plt.plot(dfs_sub[6]['Wavelength (nm)'], dfs_sub[6]['Subtracted Absorbance'], '-.k', lw=1, label=\"25hr\")\n",
    "plt.plot(dfs_sub[7]['Wavelength (nm)'], dfs_sub[7]['Subtracted Absorbance'], '-.c', lw=1, label=\"water_25hr\")\n",
    "\n",
    "\n",
    "plt.legend()\n",
    "plt.savefig(path + '/manual', dpi=300, bbox_inches='tight')\n",
    "plt.close('all')"
   ]
  },
  {
   "cell_type": "code",
   "execution_count": null,
   "metadata": {},
   "outputs": [],
   "source": [
    "# CA-BC LIP MANUAL PLOT\n",
    "plt.figure()\n",
    "plt.xlabel(\"Wavelength (nm)\")\n",
    "plt.ylabel(\"Substrate Subtracted Absorbance\")\n",
    "\n",
    "plt.plot(dfs_sub[1]['Wavelength (nm)'], dfs_sub[1]['Subtracted Absorbance'], '-k', lw=1, label=\"CA_1hr\")\n",
    "plt.plot(dfs_sub[2]['Wavelength (nm)'], dfs_sub[2]['Subtracted Absorbance'], '-g', lw=1, label=\"BC_1hr\")\n",
    "plt.plot(dfs_sub[3]['Wavelength (nm)'], dfs_sub[3]['Subtracted Absorbance'], '--k', lw=1, label=\"CA_6hr\")\n",
    "plt.plot(dfs_sub[4]['Wavelength (nm)'], dfs_sub[4]['Subtracted Absorbance'], '--g', lw=1, label=\"BC_6hr\")\n",
    "plt.plot(dfs_sub[5]['Wavelength (nm)'], dfs_sub[5]['Subtracted Absorbance'], '-.k', lw=1, label=\"CA_25hr\")\n",
    "plt.plot(dfs_sub[6]['Wavelength (nm)'], dfs_sub[6]['Subtracted Absorbance'], '-.g', lw=1, label=\"BC_25hr\")\n",
    "plt.plot(dfs_sub[7]['Wavelength (nm)'], dfs_sub[7]['Subtracted Absorbance'], ':k', lw=1, label=\"CA_47hr\")\n",
    "plt.plot(dfs_sub[8]['Wavelength (nm)'], dfs_sub[8]['Subtracted Absorbance'], ':g', lw=1, label=\"BC_47hr\")\n",
    "\n",
    "\n",
    "plt.legend()\n",
    "plt.savefig(path + '/manual', dpi=300, bbox_inches='tight')\n",
    "plt.close('all')"
   ]
  },
  {
   "cell_type": "code",
   "execution_count": null,
   "metadata": {
    "collapsed": true
   },
   "outputs": [],
   "source": []
  }
 ],
 "metadata": {
  "kernelspec": {
   "display_name": "Python 3",
   "language": "python",
   "name": "python3"
  },
  "language_info": {
   "codemirror_mode": {
    "name": "ipython",
    "version": 3
   },
   "file_extension": ".py",
   "mimetype": "text/x-python",
   "name": "python",
   "nbconvert_exporter": "python",
   "pygments_lexer": "ipython3",
   "version": "3.6.1"
  }
 },
 "nbformat": 4,
 "nbformat_minor": 2
}
